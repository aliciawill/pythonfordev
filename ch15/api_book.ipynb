{
 "cells": [
  {
   "cell_type": "code",
   "execution_count": 3,
   "metadata": {},
   "outputs": [
    {
     "data": {
      "text/plain": [
       "{'documents': [{'authors': ['윤웅식'],\n",
       "   'contents': '『Git GitHub 입문』은 Git과 GitHub를 이용한 버전 관리 시스템을 다루는 방법을 배우는 입문서다. 버전 관리 시스템과 Git 고유의 명령어 중심으로 Git의 기본 개념 및 Git 기반의 대표적인 원격 저장소인 GitHub에 가입해보고 사용하는 방법을 살펴본다. 또한 개발 환경에서 많이 활용되는 대표적인 IDE 4가지인 이클립스, Visual Studio, IntelliJ IDEA, Xcode에서의 Git 사용법과 Git의 고급 명령어',\n",
       "   'datetime': '2015-08-20T00:00:00.000+09:00',\n",
       "   'isbn': '8968482020 9788968482021',\n",
       "   'price': 28000,\n",
       "   'publisher': '한빛미디어',\n",
       "   'sale_price': 25200,\n",
       "   'status': '정상판매',\n",
       "   'thumbnail': 'https://search1.kakaocdn.net/thumb/R120x174.q85/?fname=http%3A%2F%2Ft1.daumcdn.net%2Flbook%2Fimage%2F945802%3Ftimestamp%3D20190126042612',\n",
       "   'title': '만들면서 배우는 Git + GitHub 입문',\n",
       "   'translators': [],\n",
       "   'url': 'https://search.daum.net/search?w=bookpage&bookId=945802&q=%EB%A7%8C%EB%93%A4%EB%A9%B4%EC%84%9C+%EB%B0%B0%EC%9A%B0%EB%8A%94+Git+%2B+GitHub+%EC%9E%85%EB%AC%B8'},\n",
       "  {'authors': ['윤웅식'],\n",
       "   'contents': '이 책은 다른 프로그래밍 언어를 배운 적 있는 개발자가 파이썬 3를 빠르게 배울 수 있게 도와준다. 꼭 필요한 핵심 문법만 간략히 설명한 후, 파일 입출력, 웹 크롤러, 슬랙 봇 만들기, 메시지 큐 사용하기, 팬더스(pandas)를 이용한 데이터 분석 등 실제 현업에서 사용해볼 만한 예제를 엄선해 소개한다. 실무에서 주로 사용하는 pip, venv, Jupyter Notebook 사용법도 알려준다.',\n",
       "   'datetime': '2017-11-01T00:00:00.000+09:00',\n",
       "   'isbn': '1162240202 9791162240205',\n",
       "   'price': 20000,\n",
       "   'publisher': '한빛미디어',\n",
       "   'sale_price': 18000,\n",
       "   'status': '정상판매',\n",
       "   'thumbnail': 'https://search1.kakaocdn.net/thumb/R120x174.q85/?fname=http%3A%2F%2Ft1.daumcdn.net%2Flbook%2Fimage%2F1608691%3Ftimestamp%3D20190131061201',\n",
       "   'title': '개발자를 위한 파이썬',\n",
       "   'translators': [],\n",
       "   'url': 'https://search.daum.net/search?w=bookpage&bookId=1608691&q=%EA%B0%9C%EB%B0%9C%EC%9E%90%EB%A5%BC+%EC%9C%84%ED%95%9C+%ED%8C%8C%EC%9D%B4%EC%8D%AC'}],\n",
       " 'meta': {'is_end': True, 'pageable_count': 2, 'total_count': 2}}"
      ]
     },
     "execution_count": 3,
     "metadata": {},
     "output_type": "execute_result"
    }
   ],
   "source": [
    "import requests\n",
    "import json\n",
    "\n",
    "'''\n",
    "GET /v3/search/book HTTP/1.1\n",
    "Host: dapi.kakao.com\n",
    "Authorization: KakaoAK {app_key}\n",
    "'''\n",
    "\n",
    "url = \"https://dapi.kakao.com/v3/search/book\"\n",
    "querystring = {\"query\":\"윤웅식\"}\n",
    "header = {'authorization': 'KakaoAK a0b18d3687c31521d75ed17d422952f6'}\n",
    "r = requests.get(url, headers=header, params=querystring)\n",
    "\n",
    "json.loads(r.text)"
   ]
  },
  {
   "cell_type": "code",
   "execution_count": 4,
   "metadata": {},
   "outputs": [
    {
     "data": {
      "text/plain": [
       "{'lastBuildDate': 'Mon, 04 Feb 2019 19:35:47 +0900',\n",
       " 'total': 2,\n",
       " 'start': 1,\n",
       " 'display': 2,\n",
       " 'items': [{'title': '만들면서 배우는 Git GitHub 입문 (세상의 모든 개발 코드를 공유하고 관리하는 소셜 코딩)',\n",
       "   'link': 'http://book.naver.com/bookdb/book_detail.php?bid=9415223',\n",
       "   'image': 'https://bookthumb-phinf.pstatic.net/cover/094/152/09415223.jpg?type=m1&udate=20190204',\n",
       "   'author': '<b>윤웅식</b>',\n",
       "   'price': '28000',\n",
       "   'discount': '25200',\n",
       "   'publisher': '한빛미디어',\n",
       "   'pubdate': '20150820',\n",
       "   'isbn': '8968482020 9788968482021',\n",
       "   'description': '『GIT GITHUB 입문』은 GIT과 GITHUB를 이용한 버전 관리 시스템을 다루는 방법을 배우는 입문서다. 버전 관리 시스템과 GIT 고유의 명령어 중심으로 GIT의 기본 개념 및 GIT 기반의 대표적인 원격 저장소인 GITHUB에 가입해보고 사용하는 방법을 살펴본다. 또한 개발 환경에서 많이... '},\n",
       "  {'title': '개발자를 위한 파이썬 (현장에서 일하는 개발자 맞춤 입문서)',\n",
       "   'link': 'http://book.naver.com/bookdb/book_detail.php?bid=12706439',\n",
       "   'image': 'https://bookthumb-phinf.pstatic.net/cover/127/064/12706439.jpg?type=m1&udate=20180426',\n",
       "   'author': '<b>윤웅식</b>',\n",
       "   'price': '20000',\n",
       "   'discount': '18000',\n",
       "   'publisher': '한빛미디어',\n",
       "   'pubdate': '20171101',\n",
       "   'isbn': '1162240202 9791162240205',\n",
       "   'description': '프로그래밍 언어를 배웠다면 이 책으로 파이썬을 공부하자\\n\\n이 책은 다른 프로그래밍 언어를 배운 적 있는 개발자가 파이썬 3를 빠르게 배울 수 있게 도와준다. 꼭 필요한 핵심 문법만 간략히 설명한 후, 파일 입출력, 웹 크롤러, 슬랙 봇 만들기, 메시지 큐 사용하기, 팬더스(pandas)를 이용한 데이터... '}]}"
      ]
     },
     "execution_count": 4,
     "metadata": {},
     "output_type": "execute_result"
    }
   ],
   "source": [
    "import requests\n",
    "import json\n",
    "\n",
    "url = \"https://openapi.naver.com/v1/search/book.json?\"\n",
    "client_id = \"q62rKwxf5gxV0v9keWOU\"\n",
    "client_secret = \"_RoC88vfAr\"\n",
    "\n",
    "q = \"query=\" + \"윤웅식\"\n",
    "\n",
    "headers = {\n",
    "    \"X-Naver-Client-Id\":client_id,\n",
    "    \"X-Naver-Client-secret\":client_secret\n",
    "}\n",
    "\n",
    "r = requests.get(url+q, headers=headers)\n",
    "json.loads(r.text)"
   ]
  },
  {
   "cell_type": "code",
   "execution_count": 10,
   "metadata": {},
   "outputs": [
    {
     "data": {
      "text/plain": [
       "{'page': 1,\n",
       " 'total_results': 2,\n",
       " 'total_pages': 1,\n",
       " 'results': [{'vote_count': 0,\n",
       "   'id': 579231,\n",
       "   'video': False,\n",
       "   'vote_average': 0,\n",
       "   'title': 'Your Name Is Woman',\n",
       "   'popularity': 0.883,\n",
       "   'poster_path': None,\n",
       "   'original_language': 'ko',\n",
       "   'original_title': '너의 이름은 여자',\n",
       "   'genre_ids': [18],\n",
       "   'backdrop_path': None,\n",
       "   'adult': False,\n",
       "   'overview': 'An architect has an accident which leaves him uninterested in sex and unable to perform. His wife feels she cannot love with forced celibacy and takes up with a college student.',\n",
       "   'release_date': '1969-03-07'},\n",
       "  {'vote_count': 3569,\n",
       "   'id': 372058,\n",
       "   'video': False,\n",
       "   'vote_average': 8.6,\n",
       "   'title': 'Your Name.',\n",
       "   'popularity': 26.526,\n",
       "   'poster_path': '/xq1Ugd62d23K2knRUx6xxuALTZB.jpg',\n",
       "   'original_language': 'ja',\n",
       "   'original_title': '君の名は。',\n",
       "   'genre_ids': [10749, 16, 18],\n",
       "   'backdrop_path': '/6vkhRvsRvWpmaRVyCXaxTkIEb7j.jpg',\n",
       "   'adult': False,\n",
       "   'overview': 'High schoolers Mitsuha and Taki are complete strangers living separate lives. But one night, they suddenly switch places. Mitsuha wakes up in Taki’s body, and he in hers. This bizarre occurrence continues to happen randomly, and the two must adjust their lives around each other.',\n",
       "   'release_date': '2016-08-26'}]}"
      ]
     },
     "execution_count": 10,
     "metadata": {},
     "output_type": "execute_result"
    }
   ],
   "source": [
    "#https://api.themoviedb.org/3/movie/550?api_key=6a83528b368de764278024ed74e27c4a\n",
    "import requests\n",
    "import json\n",
    "\n",
    "url = \"https://api.themoviedb.org/3/search/movie\"\n",
    "p = {\n",
    "    'api_key': '6a83528b368de764278024ed74e27c4a',\n",
    "    'query': \"너의 이름은\"\n",
    "}\n",
    "\n",
    "r = requests.get(url, params=p)\n",
    "json.loads(r.text)\n"
   ]
  },
  {
   "cell_type": "code",
   "execution_count": null,
   "metadata": {},
   "outputs": [],
   "source": []
  }
 ],
 "metadata": {
  "kernelspec": {
   "display_name": "Python 3",
   "language": "python",
   "name": "python3"
  },
  "language_info": {
   "codemirror_mode": {
    "name": "ipython",
    "version": 3
   },
   "file_extension": ".py",
   "mimetype": "text/x-python",
   "name": "python",
   "nbconvert_exporter": "python",
   "pygments_lexer": "ipython3",
   "version": "3.7.2"
  }
 },
 "nbformat": 4,
 "nbformat_minor": 2
}
